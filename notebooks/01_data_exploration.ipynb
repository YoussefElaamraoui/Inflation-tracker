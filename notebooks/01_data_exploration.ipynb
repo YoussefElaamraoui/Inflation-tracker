{
 "cells": [
  {
   "cell_type": "code",
   "id": "initial_id",
   "metadata": {
    "ExecuteTime": {
     "end_time": "2025-02-02T21:00:44.040333Z",
     "start_time": "2025-02-02T21:00:43.434008Z"
    }
   },
   "source": [
    "import pandas as pd\n",
    "import numpy as np "
   ],
   "outputs": [],
   "execution_count": 4
  },
  {
   "cell_type": "code",
   "id": "3640ca5103802849",
   "metadata": {
    "ExecuteTime": {
     "end_time": "2025-02-02T21:00:44.053313Z",
     "start_time": "2025-02-02T21:00:44.042319Z"
    }
   },
   "source": [
    "# reading data\n",
    "data_1 = pd.read_csv(\"../data/raw/WLD_RTFP_country_2023-10-02.csv\")"
   ],
   "outputs": [],
   "execution_count": 5
  },
  {
   "cell_type": "code",
   "id": "fae695cc29612ad7",
   "metadata": {
    "ExecuteTime": {
     "end_time": "2025-02-02T21:00:44.289944Z",
     "start_time": "2025-02-02T21:00:44.280186Z"
    }
   },
   "source": [
    "#having a small info about the data\n",
    "data_1.info()"
   ],
   "outputs": [
    {
     "name": "stdout",
     "output_type": "stream",
     "text": [
      "<class 'pandas.core.frame.DataFrame'>\n",
      "RangeIndex: 4798 entries, 0 to 4797\n",
      "Data columns (total 8 columns):\n",
      " #   Column     Non-Null Count  Dtype  \n",
      "---  ------     --------------  -----  \n",
      " 0   Open       4734 non-null   float64\n",
      " 1   High       4734 non-null   float64\n",
      " 2   Low        4734 non-null   float64\n",
      " 3   Close      4734 non-null   float64\n",
      " 4   Inflation  4434 non-null   float64\n",
      " 5   country    4798 non-null   object \n",
      " 6   ISO3       4798 non-null   object \n",
      " 7   date       4798 non-null   object \n",
      "dtypes: float64(5), object(3)\n",
      "memory usage: 300.0+ KB\n"
     ]
    }
   ],
   "execution_count": 6
  },
  {
   "cell_type": "code",
   "id": "3dc296cc3f7e2879",
   "metadata": {
    "ExecuteTime": {
     "end_time": "2025-02-02T21:00:45.050999Z",
     "start_time": "2025-02-02T21:00:45.033435Z"
    }
   },
   "source": [
    "# First view of data\n",
    "data_1.sample(20)"
   ],
   "outputs": [
    {
     "data": {
      "text/plain": [
       "      Open  High   Low  Close  Inflation                   country ISO3  \\\n",
       "1868  0.77  0.78  0.75   0.78       8.13                     Haiti  HTI   \n",
       "2519  0.70  0.71  0.69   0.69       8.48                   Liberia  LBR   \n",
       "1355  1.01  1.04  1.00   1.04      -0.36               Congo, Rep.  COG   \n",
       "1694  1.03  1.06  1.00   1.00      -6.06             Guinea-Bissau  GNB   \n",
       "445   0.74  0.76  0.73   0.75      -3.66              Burkina Faso  BFA   \n",
       "3059  0.48  0.48  0.47   0.47        NaN                Mozambique  MOZ   \n",
       "874   0.93  0.93  0.93   0.93       1.28                  Cameroon  CMR   \n",
       "2316  0.79  0.80  0.77   0.79        NaN                   Lebanon  LBN   \n",
       "640   0.67  0.68  0.65   0.68       1.10  Central African Republic  CAF   \n",
       "3114  0.68  0.69  0.67   0.67      -4.56                Mozambique  MOZ   \n",
       "4462  0.98  1.01  0.95   0.98      -7.58                      Chad  TCD   \n",
       "1514  1.02  1.04  1.00   1.02       0.57               Gambia, The  GMB   \n",
       "2559  0.79  0.81  0.78   0.80       4.97                   Liberia  LBR   \n",
       "4365  1.13  1.14  1.09   1.09      16.41      Syrian Arab Republic  SYR   \n",
       "3904  0.95  0.97  0.94   0.97       4.24                   Somalia  SOM   \n",
       "843    NaN   NaN   NaN    NaN        NaN                  Cameroon  CMR   \n",
       "4551  1.03  1.05  0.99   0.99       7.91                      Chad  TCD   \n",
       "4246  3.18  3.28  3.12   3.28      -2.50               South Sudan  SSD   \n",
       "4625  0.50  0.51  0.49   0.50        NaN               Yemen, Rep.  YEM   \n",
       "2763  0.93  0.95  0.92   0.94       1.98                      Mali  MLI   \n",
       "\n",
       "            date  \n",
       "1868  2015-03-01  \n",
       "2519  2012-02-01  \n",
       "1355  2022-12-01  \n",
       "1694  2017-07-01  \n",
       "445   2010-06-01  \n",
       "3059  2007-08-01  \n",
       "874   2012-07-01  \n",
       "2316  2012-01-01  \n",
       "640   2009-11-01  \n",
       "3114  2012-03-01  \n",
       "4462  2010-09-01  \n",
       "1514  2019-05-01  \n",
       "2559  2015-06-01  \n",
       "4365  2019-06-01  \n",
       "3904  2010-09-01  \n",
       "843   2009-12-01  \n",
       "4551  2018-02-01  \n",
       "4246  2022-05-01  \n",
       "4625  2009-06-01  \n",
       "2763  2015-08-01  "
      ],
      "text/html": [
       "<div>\n",
       "<style scoped>\n",
       "    .dataframe tbody tr th:only-of-type {\n",
       "        vertical-align: middle;\n",
       "    }\n",
       "\n",
       "    .dataframe tbody tr th {\n",
       "        vertical-align: top;\n",
       "    }\n",
       "\n",
       "    .dataframe thead th {\n",
       "        text-align: right;\n",
       "    }\n",
       "</style>\n",
       "<table border=\"1\" class=\"dataframe\">\n",
       "  <thead>\n",
       "    <tr style=\"text-align: right;\">\n",
       "      <th></th>\n",
       "      <th>Open</th>\n",
       "      <th>High</th>\n",
       "      <th>Low</th>\n",
       "      <th>Close</th>\n",
       "      <th>Inflation</th>\n",
       "      <th>country</th>\n",
       "      <th>ISO3</th>\n",
       "      <th>date</th>\n",
       "    </tr>\n",
       "  </thead>\n",
       "  <tbody>\n",
       "    <tr>\n",
       "      <th>1868</th>\n",
       "      <td>0.77</td>\n",
       "      <td>0.78</td>\n",
       "      <td>0.75</td>\n",
       "      <td>0.78</td>\n",
       "      <td>8.13</td>\n",
       "      <td>Haiti</td>\n",
       "      <td>HTI</td>\n",
       "      <td>2015-03-01</td>\n",
       "    </tr>\n",
       "    <tr>\n",
       "      <th>2519</th>\n",
       "      <td>0.70</td>\n",
       "      <td>0.71</td>\n",
       "      <td>0.69</td>\n",
       "      <td>0.69</td>\n",
       "      <td>8.48</td>\n",
       "      <td>Liberia</td>\n",
       "      <td>LBR</td>\n",
       "      <td>2012-02-01</td>\n",
       "    </tr>\n",
       "    <tr>\n",
       "      <th>1355</th>\n",
       "      <td>1.01</td>\n",
       "      <td>1.04</td>\n",
       "      <td>1.00</td>\n",
       "      <td>1.04</td>\n",
       "      <td>-0.36</td>\n",
       "      <td>Congo, Rep.</td>\n",
       "      <td>COG</td>\n",
       "      <td>2022-12-01</td>\n",
       "    </tr>\n",
       "    <tr>\n",
       "      <th>1694</th>\n",
       "      <td>1.03</td>\n",
       "      <td>1.06</td>\n",
       "      <td>1.00</td>\n",
       "      <td>1.00</td>\n",
       "      <td>-6.06</td>\n",
       "      <td>Guinea-Bissau</td>\n",
       "      <td>GNB</td>\n",
       "      <td>2017-07-01</td>\n",
       "    </tr>\n",
       "    <tr>\n",
       "      <th>445</th>\n",
       "      <td>0.74</td>\n",
       "      <td>0.76</td>\n",
       "      <td>0.73</td>\n",
       "      <td>0.75</td>\n",
       "      <td>-3.66</td>\n",
       "      <td>Burkina Faso</td>\n",
       "      <td>BFA</td>\n",
       "      <td>2010-06-01</td>\n",
       "    </tr>\n",
       "    <tr>\n",
       "      <th>3059</th>\n",
       "      <td>0.48</td>\n",
       "      <td>0.48</td>\n",
       "      <td>0.47</td>\n",
       "      <td>0.47</td>\n",
       "      <td>NaN</td>\n",
       "      <td>Mozambique</td>\n",
       "      <td>MOZ</td>\n",
       "      <td>2007-08-01</td>\n",
       "    </tr>\n",
       "    <tr>\n",
       "      <th>874</th>\n",
       "      <td>0.93</td>\n",
       "      <td>0.93</td>\n",
       "      <td>0.93</td>\n",
       "      <td>0.93</td>\n",
       "      <td>1.28</td>\n",
       "      <td>Cameroon</td>\n",
       "      <td>CMR</td>\n",
       "      <td>2012-07-01</td>\n",
       "    </tr>\n",
       "    <tr>\n",
       "      <th>2316</th>\n",
       "      <td>0.79</td>\n",
       "      <td>0.80</td>\n",
       "      <td>0.77</td>\n",
       "      <td>0.79</td>\n",
       "      <td>NaN</td>\n",
       "      <td>Lebanon</td>\n",
       "      <td>LBN</td>\n",
       "      <td>2012-01-01</td>\n",
       "    </tr>\n",
       "    <tr>\n",
       "      <th>640</th>\n",
       "      <td>0.67</td>\n",
       "      <td>0.68</td>\n",
       "      <td>0.65</td>\n",
       "      <td>0.68</td>\n",
       "      <td>1.10</td>\n",
       "      <td>Central African Republic</td>\n",
       "      <td>CAF</td>\n",
       "      <td>2009-11-01</td>\n",
       "    </tr>\n",
       "    <tr>\n",
       "      <th>3114</th>\n",
       "      <td>0.68</td>\n",
       "      <td>0.69</td>\n",
       "      <td>0.67</td>\n",
       "      <td>0.67</td>\n",
       "      <td>-4.56</td>\n",
       "      <td>Mozambique</td>\n",
       "      <td>MOZ</td>\n",
       "      <td>2012-03-01</td>\n",
       "    </tr>\n",
       "    <tr>\n",
       "      <th>4462</th>\n",
       "      <td>0.98</td>\n",
       "      <td>1.01</td>\n",
       "      <td>0.95</td>\n",
       "      <td>0.98</td>\n",
       "      <td>-7.58</td>\n",
       "      <td>Chad</td>\n",
       "      <td>TCD</td>\n",
       "      <td>2010-09-01</td>\n",
       "    </tr>\n",
       "    <tr>\n",
       "      <th>1514</th>\n",
       "      <td>1.02</td>\n",
       "      <td>1.04</td>\n",
       "      <td>1.00</td>\n",
       "      <td>1.02</td>\n",
       "      <td>0.57</td>\n",
       "      <td>Gambia, The</td>\n",
       "      <td>GMB</td>\n",
       "      <td>2019-05-01</td>\n",
       "    </tr>\n",
       "    <tr>\n",
       "      <th>2559</th>\n",
       "      <td>0.79</td>\n",
       "      <td>0.81</td>\n",
       "      <td>0.78</td>\n",
       "      <td>0.80</td>\n",
       "      <td>4.97</td>\n",
       "      <td>Liberia</td>\n",
       "      <td>LBR</td>\n",
       "      <td>2015-06-01</td>\n",
       "    </tr>\n",
       "    <tr>\n",
       "      <th>4365</th>\n",
       "      <td>1.13</td>\n",
       "      <td>1.14</td>\n",
       "      <td>1.09</td>\n",
       "      <td>1.09</td>\n",
       "      <td>16.41</td>\n",
       "      <td>Syrian Arab Republic</td>\n",
       "      <td>SYR</td>\n",
       "      <td>2019-06-01</td>\n",
       "    </tr>\n",
       "    <tr>\n",
       "      <th>3904</th>\n",
       "      <td>0.95</td>\n",
       "      <td>0.97</td>\n",
       "      <td>0.94</td>\n",
       "      <td>0.97</td>\n",
       "      <td>4.24</td>\n",
       "      <td>Somalia</td>\n",
       "      <td>SOM</td>\n",
       "      <td>2010-09-01</td>\n",
       "    </tr>\n",
       "    <tr>\n",
       "      <th>843</th>\n",
       "      <td>NaN</td>\n",
       "      <td>NaN</td>\n",
       "      <td>NaN</td>\n",
       "      <td>NaN</td>\n",
       "      <td>NaN</td>\n",
       "      <td>Cameroon</td>\n",
       "      <td>CMR</td>\n",
       "      <td>2009-12-01</td>\n",
       "    </tr>\n",
       "    <tr>\n",
       "      <th>4551</th>\n",
       "      <td>1.03</td>\n",
       "      <td>1.05</td>\n",
       "      <td>0.99</td>\n",
       "      <td>0.99</td>\n",
       "      <td>7.91</td>\n",
       "      <td>Chad</td>\n",
       "      <td>TCD</td>\n",
       "      <td>2018-02-01</td>\n",
       "    </tr>\n",
       "    <tr>\n",
       "      <th>4246</th>\n",
       "      <td>3.18</td>\n",
       "      <td>3.28</td>\n",
       "      <td>3.12</td>\n",
       "      <td>3.28</td>\n",
       "      <td>-2.50</td>\n",
       "      <td>South Sudan</td>\n",
       "      <td>SSD</td>\n",
       "      <td>2022-05-01</td>\n",
       "    </tr>\n",
       "    <tr>\n",
       "      <th>4625</th>\n",
       "      <td>0.50</td>\n",
       "      <td>0.51</td>\n",
       "      <td>0.49</td>\n",
       "      <td>0.50</td>\n",
       "      <td>NaN</td>\n",
       "      <td>Yemen, Rep.</td>\n",
       "      <td>YEM</td>\n",
       "      <td>2009-06-01</td>\n",
       "    </tr>\n",
       "    <tr>\n",
       "      <th>2763</th>\n",
       "      <td>0.93</td>\n",
       "      <td>0.95</td>\n",
       "      <td>0.92</td>\n",
       "      <td>0.94</td>\n",
       "      <td>1.98</td>\n",
       "      <td>Mali</td>\n",
       "      <td>MLI</td>\n",
       "      <td>2015-08-01</td>\n",
       "    </tr>\n",
       "  </tbody>\n",
       "</table>\n",
       "</div>"
      ]
     },
     "execution_count": 7,
     "metadata": {},
     "output_type": "execute_result"
    }
   ],
   "execution_count": 7
  },
  {
   "cell_type": "code",
   "id": "641e72e6",
   "metadata": {},
   "source": [
    "# checking for a specific country\n",
    "data_1[data_1['country'] == 'Italy']"
   ],
   "outputs": [],
   "execution_count": null
  },
  {
   "cell_type": "code",
   "id": "a08beecbacdd5b6d",
   "metadata": {},
   "source": [
    "# Checking for information on the data \n",
    "data_1.isnull().any()"
   ],
   "outputs": [],
   "execution_count": null
  },
  {
   "cell_type": "code",
   "id": "20c801c9425f452c",
   "metadata": {
    "ExecuteTime": {
     "end_time": "2025-02-02T21:01:05.341254Z",
     "start_time": "2025-02-02T21:01:05.334905Z"
    }
   },
   "source": [
    "# Counting number of null values, by doing True false then counting the number of True(nulls), and doing the sum of them\n",
    "data_1.isnull().sum().sum()"
   ],
   "outputs": [
    {
     "data": {
      "text/plain": [
       "620"
      ]
     },
     "execution_count": 9,
     "metadata": {},
     "output_type": "execute_result"
    }
   ],
   "execution_count": 9
  },
  {
   "cell_type": "code",
   "id": "d9915ad1",
   "metadata": {
    "ExecuteTime": {
     "end_time": "2025-02-02T21:01:03.755757Z",
     "start_time": "2025-02-02T21:01:03.738892Z"
    }
   },
   "source": [
    "# counting null inflation values\n",
    "data_1['Inflation'].isnull().sum().sum()"
   ],
   "outputs": [
    {
     "data": {
      "text/plain": [
       "364"
      ]
     },
     "execution_count": 8,
     "metadata": {},
     "output_type": "execute_result"
    }
   ],
   "execution_count": 8
  },
  {
   "cell_type": "code",
   "id": "845c3b48",
   "metadata": {
    "ExecuteTime": {
     "end_time": "2025-02-02T21:01:19.058870Z",
     "start_time": "2025-02-02T21:01:19.042946Z"
    }
   },
   "source": [
    "# boolean column null inflation\n",
    "null_inflation = data_1['Inflation'].isnull()"
   ],
   "outputs": [],
   "execution_count": 10
  },
  {
   "cell_type": "code",
   "id": "014091cf",
   "metadata": {
    "ExecuteTime": {
     "end_time": "2025-02-02T21:01:21.166571Z",
     "start_time": "2025-02-02T21:01:21.158877Z"
    }
   },
   "source": [
    "null_inflation"
   ],
   "outputs": [
    {
     "data": {
      "text/plain": [
       "0        True\n",
       "1        True\n",
       "2        True\n",
       "3        True\n",
       "4        True\n",
       "        ...  \n",
       "4793    False\n",
       "4794    False\n",
       "4795    False\n",
       "4796    False\n",
       "4797    False\n",
       "Name: Inflation, Length: 4798, dtype: bool"
      ]
     },
     "execution_count": 11,
     "metadata": {},
     "output_type": "execute_result"
    }
   ],
   "execution_count": 11
  },
  {
   "cell_type": "code",
   "id": "ed940c8b",
   "metadata": {
    "ExecuteTime": {
     "end_time": "2025-02-02T21:01:46.801110Z",
     "start_time": "2025-02-02T21:01:46.780057Z"
    }
   },
   "source": [
    "# showing all the null inflation data\n",
    "data_1.loc[null_inflation]"
   ],
   "outputs": [
    {
     "data": {
      "text/plain": [
       "      Open  High   Low  Close  Inflation      country ISO3        date\n",
       "0     0.53  0.54  0.53   0.53        NaN  Afghanistan  AFG  2007-01-01\n",
       "1     0.53  0.54  0.53   0.53        NaN  Afghanistan  AFG  2007-02-01\n",
       "2     0.54  0.54  0.53   0.53        NaN  Afghanistan  AFG  2007-03-01\n",
       "3     0.53  0.55  0.53   0.55        NaN  Afghanistan  AFG  2007-04-01\n",
       "4     0.56  0.57  0.56   0.57        NaN  Afghanistan  AFG  2007-05-01\n",
       "...    ...   ...   ...    ...        ...          ...  ...         ...\n",
       "4627  0.51  0.52  0.51   0.51        NaN  Yemen, Rep.  YEM  2009-08-01\n",
       "4628  0.51  0.52  0.50   0.51        NaN  Yemen, Rep.  YEM  2009-09-01\n",
       "4629  0.52  0.53  0.52   0.53        NaN  Yemen, Rep.  YEM  2009-10-01\n",
       "4630  0.53  0.54  0.52   0.53        NaN  Yemen, Rep.  YEM  2009-11-01\n",
       "4631  0.54  0.54  0.53   0.53        NaN  Yemen, Rep.  YEM  2009-12-01\n",
       "\n",
       "[364 rows x 8 columns]"
      ],
      "text/html": [
       "<div>\n",
       "<style scoped>\n",
       "    .dataframe tbody tr th:only-of-type {\n",
       "        vertical-align: middle;\n",
       "    }\n",
       "\n",
       "    .dataframe tbody tr th {\n",
       "        vertical-align: top;\n",
       "    }\n",
       "\n",
       "    .dataframe thead th {\n",
       "        text-align: right;\n",
       "    }\n",
       "</style>\n",
       "<table border=\"1\" class=\"dataframe\">\n",
       "  <thead>\n",
       "    <tr style=\"text-align: right;\">\n",
       "      <th></th>\n",
       "      <th>Open</th>\n",
       "      <th>High</th>\n",
       "      <th>Low</th>\n",
       "      <th>Close</th>\n",
       "      <th>Inflation</th>\n",
       "      <th>country</th>\n",
       "      <th>ISO3</th>\n",
       "      <th>date</th>\n",
       "    </tr>\n",
       "  </thead>\n",
       "  <tbody>\n",
       "    <tr>\n",
       "      <th>0</th>\n",
       "      <td>0.53</td>\n",
       "      <td>0.54</td>\n",
       "      <td>0.53</td>\n",
       "      <td>0.53</td>\n",
       "      <td>NaN</td>\n",
       "      <td>Afghanistan</td>\n",
       "      <td>AFG</td>\n",
       "      <td>2007-01-01</td>\n",
       "    </tr>\n",
       "    <tr>\n",
       "      <th>1</th>\n",
       "      <td>0.53</td>\n",
       "      <td>0.54</td>\n",
       "      <td>0.53</td>\n",
       "      <td>0.53</td>\n",
       "      <td>NaN</td>\n",
       "      <td>Afghanistan</td>\n",
       "      <td>AFG</td>\n",
       "      <td>2007-02-01</td>\n",
       "    </tr>\n",
       "    <tr>\n",
       "      <th>2</th>\n",
       "      <td>0.54</td>\n",
       "      <td>0.54</td>\n",
       "      <td>0.53</td>\n",
       "      <td>0.53</td>\n",
       "      <td>NaN</td>\n",
       "      <td>Afghanistan</td>\n",
       "      <td>AFG</td>\n",
       "      <td>2007-03-01</td>\n",
       "    </tr>\n",
       "    <tr>\n",
       "      <th>3</th>\n",
       "      <td>0.53</td>\n",
       "      <td>0.55</td>\n",
       "      <td>0.53</td>\n",
       "      <td>0.55</td>\n",
       "      <td>NaN</td>\n",
       "      <td>Afghanistan</td>\n",
       "      <td>AFG</td>\n",
       "      <td>2007-04-01</td>\n",
       "    </tr>\n",
       "    <tr>\n",
       "      <th>4</th>\n",
       "      <td>0.56</td>\n",
       "      <td>0.57</td>\n",
       "      <td>0.56</td>\n",
       "      <td>0.57</td>\n",
       "      <td>NaN</td>\n",
       "      <td>Afghanistan</td>\n",
       "      <td>AFG</td>\n",
       "      <td>2007-05-01</td>\n",
       "    </tr>\n",
       "    <tr>\n",
       "      <th>...</th>\n",
       "      <td>...</td>\n",
       "      <td>...</td>\n",
       "      <td>...</td>\n",
       "      <td>...</td>\n",
       "      <td>...</td>\n",
       "      <td>...</td>\n",
       "      <td>...</td>\n",
       "      <td>...</td>\n",
       "    </tr>\n",
       "    <tr>\n",
       "      <th>4627</th>\n",
       "      <td>0.51</td>\n",
       "      <td>0.52</td>\n",
       "      <td>0.51</td>\n",
       "      <td>0.51</td>\n",
       "      <td>NaN</td>\n",
       "      <td>Yemen, Rep.</td>\n",
       "      <td>YEM</td>\n",
       "      <td>2009-08-01</td>\n",
       "    </tr>\n",
       "    <tr>\n",
       "      <th>4628</th>\n",
       "      <td>0.51</td>\n",
       "      <td>0.52</td>\n",
       "      <td>0.50</td>\n",
       "      <td>0.51</td>\n",
       "      <td>NaN</td>\n",
       "      <td>Yemen, Rep.</td>\n",
       "      <td>YEM</td>\n",
       "      <td>2009-09-01</td>\n",
       "    </tr>\n",
       "    <tr>\n",
       "      <th>4629</th>\n",
       "      <td>0.52</td>\n",
       "      <td>0.53</td>\n",
       "      <td>0.52</td>\n",
       "      <td>0.53</td>\n",
       "      <td>NaN</td>\n",
       "      <td>Yemen, Rep.</td>\n",
       "      <td>YEM</td>\n",
       "      <td>2009-10-01</td>\n",
       "    </tr>\n",
       "    <tr>\n",
       "      <th>4630</th>\n",
       "      <td>0.53</td>\n",
       "      <td>0.54</td>\n",
       "      <td>0.52</td>\n",
       "      <td>0.53</td>\n",
       "      <td>NaN</td>\n",
       "      <td>Yemen, Rep.</td>\n",
       "      <td>YEM</td>\n",
       "      <td>2009-11-01</td>\n",
       "    </tr>\n",
       "    <tr>\n",
       "      <th>4631</th>\n",
       "      <td>0.54</td>\n",
       "      <td>0.54</td>\n",
       "      <td>0.53</td>\n",
       "      <td>0.53</td>\n",
       "      <td>NaN</td>\n",
       "      <td>Yemen, Rep.</td>\n",
       "      <td>YEM</td>\n",
       "      <td>2009-12-01</td>\n",
       "    </tr>\n",
       "  </tbody>\n",
       "</table>\n",
       "<p>364 rows × 8 columns</p>\n",
       "</div>"
      ]
     },
     "execution_count": 12,
     "metadata": {},
     "output_type": "execute_result"
    }
   ],
   "execution_count": 12
  },
  {
   "cell_type": "code",
   "id": "5b0cc801",
   "metadata": {
    "ExecuteTime": {
     "end_time": "2025-02-02T21:02:36.522884Z",
     "start_time": "2025-02-02T21:02:36.494684Z"
    }
   },
   "source": [
    "# dropping the data where the inflation is null\n",
    "data_1 = data_1.dropna(subset=['Inflation'])\n",
    "data_1"
   ],
   "outputs": [],
   "execution_count": 13
  },
  {
   "cell_type": "code",
   "id": "2699754d",
   "metadata": {
    "ExecuteTime": {
     "end_time": "2025-02-02T21:03:06.304064Z",
     "start_time": "2025-02-02T21:03:06.277716Z"
    }
   },
   "source": [
    "# checking if the data is without null values\n",
    "data_1.isnull().any()"
   ],
   "outputs": [
    {
     "data": {
      "text/plain": [
       "Open         False\n",
       "High         False\n",
       "Low          False\n",
       "Close        False\n",
       "Inflation    False\n",
       "country      False\n",
       "ISO3         False\n",
       "date         False\n",
       "dtype: bool"
      ]
     },
     "execution_count": 16,
     "metadata": {},
     "output_type": "execute_result"
    }
   ],
   "execution_count": 16
  },
  {
   "cell_type": "code",
   "id": "fafc4079",
   "metadata": {
    "ExecuteTime": {
     "end_time": "2025-02-02T21:09:47.732718Z",
     "start_time": "2025-02-02T21:09:47.709032Z"
    }
   },
   "source": [
    "# showing mean value\n",
    "data_clean = data_1.groupby('country')['Inflation'].mean().sort_values(ascending=False)\n",
    "data_clean"
   ],
   "outputs": [
    {
     "data": {
      "text/plain": [
       "country\n",
       "Sudan                       65.871632\n",
       "South Sudan                 62.917316\n",
       "Lebanon                     56.399769\n",
       "Syrian Arab Republic        41.698803\n",
       "Haiti                       15.875737\n",
       "Yemen, Rep.                 13.863735\n",
       "Myanmar                     11.916404\n",
       "Nigeria                     11.210526\n",
       "Burundi                      8.850684\n",
       "Burkina Faso                 8.713789\n",
       "Mozambique                   8.557263\n",
       "Liberia                      7.672053\n",
       "Afghanistan                  7.585579\n",
       "Congo, Dem. Rep.             7.071737\n",
       "Lao PDR                      6.877212\n",
       "Gambia, The                  6.809053\n",
       "Somalia                      6.645526\n",
       "Central African Republic     6.324526\n",
       "Chad                         4.592000\n",
       "Mali                         4.578789\n",
       "Niger                        3.863632\n",
       "Cameroon                     2.789272\n",
       "Guinea-Bissau                2.365947\n",
       "Congo, Rep.                  1.503239\n",
       "Iraq                         1.497538\n",
       "Name: Inflation, dtype: float64"
      ]
     },
     "execution_count": 20,
     "metadata": {},
     "output_type": "execute_result"
    }
   ],
   "execution_count": 20
  },
  {
   "cell_type": "code",
   "id": "5420db66",
   "metadata": {
    "ExecuteTime": {
     "end_time": "2025-02-02T21:11:07.763262Z",
     "start_time": "2025-02-02T21:11:07.349748Z"
    }
   },
   "source": [
    "# plot the data\n",
    "data_clean.plot.barh(title=\"Inflation\",figsize=(10, 6))"
   ],
   "outputs": [
    {
     "data": {
      "text/plain": [
       "<AxesSubplot:title={'center':'Inflation'}, ylabel='country'>"
      ]
     },
     "execution_count": 24,
     "metadata": {},
     "output_type": "execute_result"
    },
    {
     "data": {
      "text/plain": [
       "<Figure size 720x432 with 1 Axes>"
      ],
      "image/png": "[encoded data removed]"
     },
     "metadata": {
      "needs_background": "light"
     },
     "output_type": "display_data"
    }
   ],
   "execution_count": 24
  }
 ],
 "metadata": {
  "kernelspec": {
   "display_name": "Python 3 (ipykernel)",
   "language": "python",
   "name": "python3"
  },
  "language_info": {
   "codemirror_mode": {
    "name": "ipython",
    "version": 3
   },
   "file_extension": ".py",
   "mimetype": "text/x-python",
   "name": "python",
   "nbconvert_exporter": "python",
   "pygments_lexer": "ipython3",
   "version": "3.9.19"
  }
 },
 "nbformat": 4,
 "nbformat_minor": 5
}
